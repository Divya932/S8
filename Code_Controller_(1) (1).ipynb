{
  "nbformat": 4,
  "nbformat_minor": 0,
  "metadata": {
    "kernelspec": {
      "name": "python3",
      "display_name": "Python 3"
    },
    "language_info": {
      "codemirror_mode": {
        "name": "ipython",
        "version": 3
      },
      "file_extension": ".py",
      "mimetype": "text/x-python",
      "name": "python",
      "nbconvert_exporter": "python",
      "pygments_lexer": "ipython3",
      "version": "3.7.3"
    },
    "colab": {
      "name": "Code_Controller (1).ipynb",
      "provenance": [],
      "collapsed_sections": []
    },
    "accelerator": "GPU"
  },
  "cells": [
    {
      "cell_type": "code",
      "metadata": {
        "id": "YFHHFQzv_qJ0",
        "colab_type": "code",
        "colab": {}
      },
      "source": [
        "from __future__ import print_function\n",
        "import torch\n",
        "import torch.nn as nn\n",
        "import torch.nn.functional as F\n",
        "import torch.optim as optim\n",
        "from torchvision import datasets, transforms\n",
        "from tqdm import tqdm\n",
        "from torch.optim.lr_scheduler import StepLR\n",
        "from torch.optim.lr_scheduler import OneCycleLR\n",
        "import matplotlib.pyplot as plt\n",
        "import numpy as np\n",
        "import torchvision\n",
        "import torchsummary\n",
        "from torchsummary import summary"
      ],
      "execution_count": 0,
      "outputs": []
    },
    {
      "cell_type": "markdown",
      "metadata": {
        "id": "N-fkSGTa_qJ9",
        "colab_type": "text"
      },
      "source": [
        "## Importing all the files created "
      ]
    },
    {
      "cell_type": "code",
      "metadata": {
        "id": "8jjHeSdO_qJ_",
        "colab_type": "code",
        "colab": {}
      },
      "source": [
        "from Getting_the_Data import get_and_transform_the_data\n",
        "from Displaying_the_images import display_my_images\n",
        "from Model_and_summary import ResNet18, disp_summary\n",
        "from train_test import train , test"
      ],
      "execution_count": 0,
      "outputs": []
    },
    {
      "cell_type": "markdown",
      "metadata": {
        "id": "M-CMa8kc_qKF",
        "colab_type": "text"
      },
      "source": [
        "## First step is to download and transform the data which here is CIFAR-10"
      ]
    },
    {
      "cell_type": "code",
      "metadata": {
        "id": "FN0DK5Cx_qKH",
        "colab_type": "code",
        "outputId": "3be66d21-5c0c-4a9e-c06d-7674306b1a14",
        "colab": {
          "base_uri": "https://localhost:8080/",
          "height": 67
        }
      },
      "source": [
        "train_set,test_set,train_loader,test_loader,classes = get_and_transform_the_data()"
      ],
      "execution_count": 20,
      "outputs": [
        {
          "output_type": "stream",
          "text": [
            "CUDA Available? True\n",
            "Files already downloaded and verified\n",
            "Files already downloaded and verified\n"
          ],
          "name": "stdout"
        }
      ]
    },
    {
      "cell_type": "markdown",
      "metadata": {
        "id": "8Qd5l1Lm_qKW",
        "colab_type": "text"
      },
      "source": [
        "## Moving the model for GPU usage"
      ]
    },
    {
      "cell_type": "code",
      "metadata": {
        "id": "iNZbU4Jn_qKY",
        "colab_type": "code",
        "colab": {}
      },
      "source": [
        "use_cuda= torch.cuda.is_available()\n",
        "device=torch.device('cuda' if use_cuda else 'cpu')\n",
        "model=ResNet18().to(device)"
      ],
      "execution_count": 0,
      "outputs": []
    },
    {
      "cell_type": "code",
      "metadata": {
        "id": "tgdDWmiN_qKd",
        "colab_type": "code",
        "outputId": "08d22ea5-9afe-48f9-a1f2-367ce771b3d8",
        "colab": {
          "base_uri": "https://localhost:8080/",
          "height": 1000
        }
      },
      "source": [
        "disp_summary(model)"
      ],
      "execution_count": 22,
      "outputs": [
        {
          "output_type": "stream",
          "text": [
            "----------------------------------------------------------------\n",
            "        Layer (type)               Output Shape         Param #\n",
            "================================================================\n",
            "            Conv2d-1           [-1, 64, 32, 32]           1,728\n",
            "       BatchNorm2d-2           [-1, 64, 32, 32]             128\n",
            "            Conv2d-3           [-1, 64, 32, 32]          36,864\n",
            "       BatchNorm2d-4           [-1, 64, 32, 32]             128\n",
            "            Conv2d-5           [-1, 64, 32, 32]          36,864\n",
            "       BatchNorm2d-6           [-1, 64, 32, 32]             128\n",
            "        BasicBlock-7           [-1, 64, 32, 32]               0\n",
            "            Conv2d-8           [-1, 64, 32, 32]          36,864\n",
            "       BatchNorm2d-9           [-1, 64, 32, 32]             128\n",
            "           Conv2d-10           [-1, 64, 32, 32]          36,864\n",
            "      BatchNorm2d-11           [-1, 64, 32, 32]             128\n",
            "       BasicBlock-12           [-1, 64, 32, 32]               0\n",
            "           Conv2d-13          [-1, 128, 16, 16]          73,728\n",
            "      BatchNorm2d-14          [-1, 128, 16, 16]             256\n",
            "           Conv2d-15          [-1, 128, 16, 16]         147,456\n",
            "      BatchNorm2d-16          [-1, 128, 16, 16]             256\n",
            "           Conv2d-17          [-1, 128, 16, 16]           8,192\n",
            "      BatchNorm2d-18          [-1, 128, 16, 16]             256\n",
            "       BasicBlock-19          [-1, 128, 16, 16]               0\n",
            "           Conv2d-20          [-1, 128, 16, 16]         147,456\n",
            "      BatchNorm2d-21          [-1, 128, 16, 16]             256\n",
            "           Conv2d-22          [-1, 128, 16, 16]         147,456\n",
            "      BatchNorm2d-23          [-1, 128, 16, 16]             256\n",
            "       BasicBlock-24          [-1, 128, 16, 16]               0\n",
            "           Conv2d-25            [-1, 256, 8, 8]         294,912\n",
            "      BatchNorm2d-26            [-1, 256, 8, 8]             512\n",
            "           Conv2d-27            [-1, 256, 8, 8]         589,824\n",
            "      BatchNorm2d-28            [-1, 256, 8, 8]             512\n",
            "           Conv2d-29            [-1, 256, 8, 8]          32,768\n",
            "      BatchNorm2d-30            [-1, 256, 8, 8]             512\n",
            "       BasicBlock-31            [-1, 256, 8, 8]               0\n",
            "           Conv2d-32            [-1, 256, 8, 8]         589,824\n",
            "      BatchNorm2d-33            [-1, 256, 8, 8]             512\n",
            "           Conv2d-34            [-1, 256, 8, 8]         589,824\n",
            "      BatchNorm2d-35            [-1, 256, 8, 8]             512\n",
            "       BasicBlock-36            [-1, 256, 8, 8]               0\n",
            "           Conv2d-37            [-1, 512, 4, 4]       1,179,648\n",
            "      BatchNorm2d-38            [-1, 512, 4, 4]           1,024\n",
            "           Conv2d-39            [-1, 512, 4, 4]       2,359,296\n",
            "      BatchNorm2d-40            [-1, 512, 4, 4]           1,024\n",
            "           Conv2d-41            [-1, 512, 4, 4]         131,072\n",
            "      BatchNorm2d-42            [-1, 512, 4, 4]           1,024\n",
            "       BasicBlock-43            [-1, 512, 4, 4]               0\n",
            "           Conv2d-44            [-1, 512, 4, 4]       2,359,296\n",
            "      BatchNorm2d-45            [-1, 512, 4, 4]           1,024\n",
            "           Conv2d-46            [-1, 512, 4, 4]       2,359,296\n",
            "      BatchNorm2d-47            [-1, 512, 4, 4]           1,024\n",
            "       BasicBlock-48            [-1, 512, 4, 4]               0\n",
            "           Linear-49                   [-1, 10]           5,130\n",
            "================================================================\n",
            "Total params: 11,173,962\n",
            "Trainable params: 11,173,962\n",
            "Non-trainable params: 0\n",
            "----------------------------------------------------------------\n",
            "Input size (MB): 0.01\n",
            "Forward/backward pass size (MB): 11.25\n",
            "Params size (MB): 42.63\n",
            "Estimated Total Size (MB): 53.89\n",
            "----------------------------------------------------------------\n"
          ],
          "name": "stdout"
        }
      ]
    },
    {
      "cell_type": "code",
      "metadata": {
        "id": "eYmRk12R_qKj",
        "colab_type": "code",
        "outputId": "3c9f8495-45e2-40ef-dd47-527fad985694",
        "colab": {
          "base_uri": "https://localhost:8080/",
          "height": 1000
        }
      },
      "source": [
        "device= 'cuda' if torch.cuda.is_available() else 'cpu'\n",
        "\n",
        "optimizer = optim.RMSprop(model.parameters(), lr=0.1)\n",
        "scheduler = StepLR(optimizer,step_size=6, gamma=0.1)\n",
        "\n",
        "for epoch in range(1, 21):\n",
        "    print(f'Epoch: {epoch} Learning_Rate {scheduler.get_lr()}')\n",
        "    train(model, device, train_loader, optimizer, epoch)\n",
        "    test(model, device, test_loader)\n",
        "    scheduler.step()"
      ],
      "execution_count": 23,
      "outputs": [
        {
          "output_type": "stream",
          "text": [
            "\r  0%|          | 0/391 [00:00<?, ?it/s]"
          ],
          "name": "stderr"
        },
        {
          "output_type": "stream",
          "text": [
            "Epoch: 1 Learning_Rate [0.1]\n"
          ],
          "name": "stdout"
        },
        {
          "output_type": "stream",
          "text": [
            "Loss=1.8389437198638916 Batch_id=390 Accuracy=20.26: 100%|██████████| 391/391 [00:52<00:00,  7.43it/s]\n",
            "  0%|          | 0/391 [00:00<?, ?it/s]"
          ],
          "name": "stderr"
        },
        {
          "output_type": "stream",
          "text": [
            "\n",
            "Test set: Average loss: -3.7874, Accuracy: 2510/10000 (25.10%)\n",
            "\n",
            "Epoch: 2 Learning_Rate [0.1]\n"
          ],
          "name": "stdout"
        },
        {
          "output_type": "stream",
          "text": [
            "Loss=1.3486403226852417 Batch_id=390 Accuracy=33.65: 100%|██████████| 391/391 [00:52<00:00,  7.44it/s]\n",
            "  0%|          | 0/391 [00:00<?, ?it/s]"
          ],
          "name": "stderr"
        },
        {
          "output_type": "stream",
          "text": [
            "\n",
            "Test set: Average loss: -4.1131, Accuracy: 3839/10000 (38.39%)\n",
            "\n",
            "Epoch: 3 Learning_Rate [0.1]\n"
          ],
          "name": "stdout"
        },
        {
          "output_type": "stream",
          "text": [
            "Loss=1.36561119556427 Batch_id=390 Accuracy=49.68: 100%|██████████| 391/391 [00:53<00:00,  7.33it/s]\n",
            "  0%|          | 0/391 [00:00<?, ?it/s]"
          ],
          "name": "stderr"
        },
        {
          "output_type": "stream",
          "text": [
            "\n",
            "Test set: Average loss: -4.7318, Accuracy: 3371/10000 (33.71%)\n",
            "\n",
            "Epoch: 4 Learning_Rate [0.1]\n"
          ],
          "name": "stdout"
        },
        {
          "output_type": "stream",
          "text": [
            "Loss=0.7342442274093628 Batch_id=390 Accuracy=61.69: 100%|██████████| 391/391 [00:53<00:00,  7.35it/s]\n",
            "  0%|          | 0/391 [00:00<?, ?it/s]"
          ],
          "name": "stderr"
        },
        {
          "output_type": "stream",
          "text": [
            "\n",
            "Test set: Average loss: -7.5674, Accuracy: 6233/10000 (62.33%)\n",
            "\n",
            "Epoch: 5 Learning_Rate [0.1]\n"
          ],
          "name": "stdout"
        },
        {
          "output_type": "stream",
          "text": [
            "Loss=0.9541270136833191 Batch_id=390 Accuracy=68.11: 100%|██████████| 391/391 [00:53<00:00,  7.35it/s]\n",
            "  0%|          | 0/391 [00:00<?, ?it/s]"
          ],
          "name": "stderr"
        },
        {
          "output_type": "stream",
          "text": [
            "\n",
            "Test set: Average loss: -6.5382, Accuracy: 5939/10000 (59.39%)\n",
            "\n",
            "Epoch: 6 Learning_Rate [0.1]\n"
          ],
          "name": "stdout"
        },
        {
          "output_type": "stream",
          "text": [
            "Loss=0.6494245529174805 Batch_id=390 Accuracy=74.40: 100%|██████████| 391/391 [00:52<00:00,  7.42it/s]\n",
            "  0%|          | 0/391 [00:00<?, ?it/s]"
          ],
          "name": "stderr"
        },
        {
          "output_type": "stream",
          "text": [
            "\n",
            "Test set: Average loss: -7.4066, Accuracy: 6747/10000 (67.47%)\n",
            "\n",
            "Epoch: 7 Learning_Rate [0.0010000000000000002]\n"
          ],
          "name": "stdout"
        },
        {
          "output_type": "stream",
          "text": [
            "Loss=0.3990081548690796 Batch_id=390 Accuracy=83.71: 100%|██████████| 391/391 [00:52<00:00,  7.39it/s]\n",
            "  0%|          | 0/391 [00:00<?, ?it/s]"
          ],
          "name": "stderr"
        },
        {
          "output_type": "stream",
          "text": [
            "\n",
            "Test set: Average loss: -10.1457, Accuracy: 7928/10000 (79.28%)\n",
            "\n",
            "Epoch: 8 Learning_Rate [0.010000000000000002]\n"
          ],
          "name": "stdout"
        },
        {
          "output_type": "stream",
          "text": [
            "Loss=0.4258285164833069 Batch_id=390 Accuracy=86.05: 100%|██████████| 391/391 [00:52<00:00,  7.41it/s]\n",
            "  0%|          | 0/391 [00:00<?, ?it/s]"
          ],
          "name": "stderr"
        },
        {
          "output_type": "stream",
          "text": [
            "\n",
            "Test set: Average loss: -11.1674, Accuracy: 7986/10000 (79.86%)\n",
            "\n",
            "Epoch: 9 Learning_Rate [0.010000000000000002]\n"
          ],
          "name": "stdout"
        },
        {
          "output_type": "stream",
          "text": [
            "Loss=0.30131101608276367 Batch_id=390 Accuracy=87.76: 100%|██████████| 391/391 [00:53<00:00,  7.37it/s]\n",
            "  0%|          | 0/391 [00:00<?, ?it/s]"
          ],
          "name": "stderr"
        },
        {
          "output_type": "stream",
          "text": [
            "\n",
            "Test set: Average loss: -11.8252, Accuracy: 8000/10000 (80.00%)\n",
            "\n",
            "Epoch: 10 Learning_Rate [0.010000000000000002]\n"
          ],
          "name": "stdout"
        },
        {
          "output_type": "stream",
          "text": [
            "Loss=0.2294832170009613 Batch_id=390 Accuracy=89.11: 100%|██████████| 391/391 [00:52<00:00,  7.42it/s]\n",
            "  0%|          | 0/391 [00:00<?, ?it/s]"
          ],
          "name": "stderr"
        },
        {
          "output_type": "stream",
          "text": [
            "\n",
            "Test set: Average loss: -12.4027, Accuracy: 8020/10000 (80.20%)\n",
            "\n",
            "Epoch: 11 Learning_Rate [0.010000000000000002]\n"
          ],
          "name": "stdout"
        },
        {
          "output_type": "stream",
          "text": [
            "Loss=0.4370388090610504 Batch_id=390 Accuracy=90.65: 100%|██████████| 391/391 [00:52<00:00,  7.38it/s]\n",
            "  0%|          | 0/391 [00:00<?, ?it/s]"
          ],
          "name": "stderr"
        },
        {
          "output_type": "stream",
          "text": [
            "\n",
            "Test set: Average loss: -13.0287, Accuracy: 8013/10000 (80.13%)\n",
            "\n",
            "Epoch: 12 Learning_Rate [0.010000000000000002]\n"
          ],
          "name": "stdout"
        },
        {
          "output_type": "stream",
          "text": [
            "Loss=0.24861903488636017 Batch_id=390 Accuracy=91.96: 100%|██████████| 391/391 [00:52<00:00,  7.39it/s]\n",
            "  0%|          | 0/391 [00:00<?, ?it/s]"
          ],
          "name": "stderr"
        },
        {
          "output_type": "stream",
          "text": [
            "\n",
            "Test set: Average loss: -13.5584, Accuracy: 8014/10000 (80.14%)\n",
            "\n",
            "Epoch: 13 Learning_Rate [0.00010000000000000003]\n"
          ],
          "name": "stdout"
        },
        {
          "output_type": "stream",
          "text": [
            "Loss=0.18106894195079803 Batch_id=390 Accuracy=94.17: 100%|██████████| 391/391 [00:52<00:00,  7.40it/s]\n",
            "  0%|          | 0/391 [00:00<?, ?it/s]"
          ],
          "name": "stderr"
        },
        {
          "output_type": "stream",
          "text": [
            "\n",
            "Test set: Average loss: -14.3088, Accuracy: 8041/10000 (80.41%)\n",
            "\n",
            "Epoch: 14 Learning_Rate [0.0010000000000000002]\n"
          ],
          "name": "stdout"
        },
        {
          "output_type": "stream",
          "text": [
            "Loss=0.15766285359859467 Batch_id=390 Accuracy=94.48: 100%|██████████| 391/391 [00:52<00:00,  7.41it/s]\n",
            "  0%|          | 0/391 [00:00<?, ?it/s]"
          ],
          "name": "stderr"
        },
        {
          "output_type": "stream",
          "text": [
            "\n",
            "Test set: Average loss: -14.8220, Accuracy: 8051/10000 (80.51%)\n",
            "\n",
            "Epoch: 15 Learning_Rate [0.0010000000000000002]\n"
          ],
          "name": "stdout"
        },
        {
          "output_type": "stream",
          "text": [
            "Loss=0.10147438198328018 Batch_id=390 Accuracy=94.66: 100%|██████████| 391/391 [00:52<00:00,  7.39it/s]\n",
            "  0%|          | 0/391 [00:00<?, ?it/s]"
          ],
          "name": "stderr"
        },
        {
          "output_type": "stream",
          "text": [
            "\n",
            "Test set: Average loss: -14.8101, Accuracy: 8036/10000 (80.36%)\n",
            "\n",
            "Epoch: 16 Learning_Rate [0.0010000000000000002]\n"
          ],
          "name": "stdout"
        },
        {
          "output_type": "stream",
          "text": [
            "Loss=0.1647653877735138 Batch_id=390 Accuracy=94.76: 100%|██████████| 391/391 [00:52<00:00,  7.38it/s]\n",
            "  0%|          | 0/391 [00:00<?, ?it/s]"
          ],
          "name": "stderr"
        },
        {
          "output_type": "stream",
          "text": [
            "\n",
            "Test set: Average loss: -15.1882, Accuracy: 8036/10000 (80.36%)\n",
            "\n",
            "Epoch: 17 Learning_Rate [0.0010000000000000002]\n"
          ],
          "name": "stdout"
        },
        {
          "output_type": "stream",
          "text": [
            "Loss=0.18740881979465485 Batch_id=390 Accuracy=94.97: 100%|██████████| 391/391 [00:52<00:00,  7.40it/s]\n",
            "  0%|          | 0/391 [00:00<?, ?it/s]"
          ],
          "name": "stderr"
        },
        {
          "output_type": "stream",
          "text": [
            "\n",
            "Test set: Average loss: -15.5527, Accuracy: 8032/10000 (80.32%)\n",
            "\n",
            "Epoch: 18 Learning_Rate [0.0010000000000000002]\n"
          ],
          "name": "stdout"
        },
        {
          "output_type": "stream",
          "text": [
            "Loss=0.23176375031471252 Batch_id=390 Accuracy=95.14: 100%|██████████| 391/391 [00:52<00:00,  7.40it/s]\n",
            "  0%|          | 0/391 [00:00<?, ?it/s]"
          ],
          "name": "stderr"
        },
        {
          "output_type": "stream",
          "text": [
            "\n",
            "Test set: Average loss: -15.3729, Accuracy: 8030/10000 (80.30%)\n",
            "\n",
            "Epoch: 19 Learning_Rate [1.0000000000000004e-05]\n"
          ],
          "name": "stdout"
        },
        {
          "output_type": "stream",
          "text": [
            "Loss=0.32059717178344727 Batch_id=390 Accuracy=95.39: 100%|██████████| 391/391 [00:53<00:00,  7.34it/s]\n",
            "  0%|          | 0/391 [00:00<?, ?it/s]"
          ],
          "name": "stderr"
        },
        {
          "output_type": "stream",
          "text": [
            "\n",
            "Test set: Average loss: -15.6937, Accuracy: 8042/10000 (80.42%)\n",
            "\n",
            "Epoch: 20 Learning_Rate [0.00010000000000000003]\n"
          ],
          "name": "stdout"
        },
        {
          "output_type": "stream",
          "text": [
            "Loss=0.11385214328765869 Batch_id=390 Accuracy=95.46: 100%|██████████| 391/391 [00:52<00:00,  7.41it/s]\n"
          ],
          "name": "stderr"
        },
        {
          "output_type": "stream",
          "text": [
            "\n",
            "Test set: Average loss: -15.4996, Accuracy: 8021/10000 (80.21%)\n",
            "\n"
          ],
          "name": "stdout"
        }
      ]
    },
    {
      "cell_type": "code",
      "metadata": {
        "id": "qQiieTU8NnLT",
        "colab_type": "code",
        "colab": {}
      },
      "source": [
        ""
      ],
      "execution_count": 0,
      "outputs": []
    }
  ]
}